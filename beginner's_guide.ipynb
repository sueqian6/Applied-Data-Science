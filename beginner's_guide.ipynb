{
  "nbformat": 4,
  "nbformat_minor": 0,
  "metadata": {
    "colab": {
      "name": "beginner's guide.ipynb",
      "provenance": []
    },
    "kernelspec": {
      "name": "python2",
      "display_name": "Python 2"
    }
  },
  "cells": [
    {
      "cell_type": "markdown",
      "metadata": {
        "id": "az05ejTUV6ew",
        "colab_type": "text"
      },
      "source": [
        "# Natural Language Processing beginner's guide\n",
        "author: Yusu Qian, New York University"
      ]
    },
    {
      "cell_type": "markdown",
      "metadata": {
        "id": "5Lo_oPZ5WDe8",
        "colab_type": "text"
      },
      "source": [
        "Hi all, today I’m going to share with you some experience with getting started in natural language processing. Disclaimer: this is from someone still new to the field, and my experience only applies to those with little computer science background."
      ]
    },
    {
      "cell_type": "markdown",
      "metadata": {
        "id": "bAzBUYkXWGII",
        "colab_type": "text"
      },
      "source": [
        "###What is NLP?"
      ]
    },
    {
      "cell_type": "markdown",
      "metadata": {
        "id": "hcc0_wAiWLjO",
        "colab_type": "text"
      },
      "source": [
        "Natural language processing is the intersection of computer science and computational linguistics. It focuses on helping computers process and understand human languages. Some of the most popular tasks in natural language processing are question answering, sentiment analysis, summarization, and so on."
      ]
    },
    {
      "cell_type": "markdown",
      "metadata": {
        "id": "c1HbK7AcWric",
        "colab_type": "text"
      },
      "source": [
        "### How to det started with NLP?"
      ]
    },
    {
      "cell_type": "markdown",
      "metadata": {
        "id": "Y2hDp_tYW1rD",
        "colab_type": "text"
      },
      "source": [
        "Textbook\n",
        "\n",
        "I started to become interested in this subfield of computer science last fall, when I just started learning to program. So I chose to build a foundation by reading introductory books like [Natural Language Processing with Python](https://www.nltk.org/book/). It is designed for those with literally no coding experience. The most famous textbook is probably [Speech and Language Processing](https://https://web.stanford.edu/~jurafsky/slp3/ed3book.pdf), which you can find on Github. This book doesn’t teach you how to code. It covers theories in NLP broadly. I think reading the first half carefully is enough for beginners; you can always come back to the second half in the future when you are looking for something in particular. "
      ]
    },
    {
      "cell_type": "markdown",
      "metadata": {
        "id": "Sp0CDaBIYATV",
        "colab_type": "text"
      },
      "source": [
        "Courses\n",
        "\n",
        "There are some online courses on NLP, including [CS224n](http://web.stanford.edu/class/cs224n/) from Stanford, probably the most famous NLP course, and many others on Coursera. In the Spring semester, CDS offers two NLP courses, Text as Data and Natural Language Understanding, both of which are open to CUSP students probably one or two weeks before the semester starts. So if you are interested in them, make sure to check in Albert everyday to see if the holds are lifted for students outside CDS. I’ll be grading NLU so looking forward to seeing you there. If the class at CDS is full, check out the same class by the linguistics department."
      ]
    },
    {
      "cell_type": "markdown",
      "metadata": {
        "id": "BTK_tcdfYR62",
        "colab_type": "text"
      },
      "source": [
        "Packages, API, demos\n",
        "\n",
        "If you are interested in doing a data science project that involves NLP but not a NLP project, you can check out APIs developed by tech companies, such as the Twitter API that allows you to collect realtime tweets, the Baidu API that allows you to do NLP tasks such as auto-correction with only a few lines of code, and many other APIs that you can easily find online and use for free. There are also some demo websites that allow you to have a taste without any coding, for example, the GPT-2 generator."
      ]
    },
    {
      "cell_type": "markdown",
      "metadata": {
        "id": "rSjEWx1hmSLs",
        "colab_type": "text"
      },
      "source": [
        "NLTK is the first package you'll come across as a beginner. Say you want to find all the words that appear with 'a xxx boy' in a text."
      ]
    },
    {
      "cell_type": "code",
      "metadata": {
        "id": "7_juIfFYmgov",
        "colab_type": "code",
        "colab": {
          "base_uri": "https://localhost:8080/",
          "height": 305
        },
        "outputId": "8d8b7c2c-6269-4176-f8c2-ed8bd0c74ff1"
      },
      "source": [
        "import nltk\n",
        "from nltk.corpus import gutenberg, nps_chat\n",
        "nltk.download()"
      ],
      "execution_count": 7,
      "outputs": [
        {
          "output_type": "stream",
          "text": [
            "NLTK Downloader\n",
            "---------------------------------------------------------------------------\n",
            "    d) Download   l) List    u) Update   c) Config   h) Help   q) Quit\n",
            "---------------------------------------------------------------------------\n",
            "Downloader> d\n",
            "\n",
            "Download which package (l=list; x=cancel)?\n",
            "  Identifier> gutenberg\n",
            "    Downloading package gutenberg to /root/nltk_data...\n",
            "      Unzipping corpora/gutenberg.zip.\n",
            "\n",
            "---------------------------------------------------------------------------\n",
            "    d) Download   l) List    u) Update   c) Config   h) Help   q) Quit\n",
            "---------------------------------------------------------------------------\n",
            "Downloader> q\n"
          ],
          "name": "stdout"
        },
        {
          "output_type": "execute_result",
          "data": {
            "text/plain": [
              "True"
            ]
          },
          "metadata": {
            "tags": []
          },
          "execution_count": 7
        }
      ]
    },
    {
      "cell_type": "code",
      "metadata": {
        "id": "X0sEV-Okm4yL",
        "colab_type": "code",
        "colab": {}
      },
      "source": [
        "moby=nltk.Text(gutenberg.words('melville-moby_dick.txt'))"
      ],
      "execution_count": 0,
      "outputs": []
    },
    {
      "cell_type": "code",
      "metadata": {
        "id": "AEUpyCosm9lK",
        "colab_type": "code",
        "colab": {
          "base_uri": "https://localhost:8080/",
          "height": 35
        },
        "outputId": "7f46b275-77f1-46c2-9838-79897318843f"
      },
      "source": [
        "moby.findall(r\"<a>(<.*>)<boy>\")"
      ],
      "execution_count": 9,
      "outputs": [
        {
          "output_type": "stream",
          "text": [
            "black\n"
          ],
          "name": "stdout"
        }
      ]
    },
    {
      "cell_type": "markdown",
      "metadata": {
        "id": "VOjnf4JwhFpn",
        "colab_type": "text"
      },
      "source": [
        "Below is an example of using Baidu API to analyze sentiment."
      ]
    },
    {
      "cell_type": "code",
      "metadata": {
        "id": "lh-BQr-MhOav",
        "colab_type": "code",
        "colab": {
          "base_uri": "https://localhost:8080/",
          "height": 269
        },
        "outputId": "56f7c358-dab7-4719-b743-208c7a999d8f"
      },
      "source": [
        "!pip install baidu-aip"
      ],
      "execution_count": 2,
      "outputs": [
        {
          "output_type": "stream",
          "text": [
            "Collecting baidu-aip\n",
            "  Downloading https://files.pythonhosted.org/packages/bf/de/0e770c421bd70b0b59d59d1bcf70139cf0ad4263102a7fc2973c6187174a/baidu-aip-2.2.18.0.tar.gz\n",
            "Requirement already satisfied: requests in /usr/local/lib/python2.7/dist-packages (from baidu-aip) (2.21.0)\n",
            "Requirement already satisfied: urllib3<1.25,>=1.21.1 in /usr/local/lib/python2.7/dist-packages (from requests->baidu-aip) (1.24.3)\n",
            "Requirement already satisfied: certifi>=2017.4.17 in /usr/local/lib/python2.7/dist-packages (from requests->baidu-aip) (2019.6.16)\n",
            "Requirement already satisfied: chardet<3.1.0,>=3.0.2 in /usr/local/lib/python2.7/dist-packages (from requests->baidu-aip) (3.0.4)\n",
            "Requirement already satisfied: idna<2.9,>=2.5 in /usr/local/lib/python2.7/dist-packages (from requests->baidu-aip) (2.8)\n",
            "Building wheels for collected packages: baidu-aip\n",
            "  Building wheel for baidu-aip (setup.py) ... \u001b[?25l\u001b[?25hdone\n",
            "  Created wheel for baidu-aip: filename=baidu_aip-2.2.18.0-cp27-none-any.whl size=15655 sha256=5014f047302a005e0e2280a61a3a89a4f4d5c3b6311a46629ffebe277c57cfca\n",
            "  Stored in directory: /root/.cache/pip/wheels/5e/f3/20/9567d96b1140f13546bb3e059827cba0d575e213e8ee87f5ea\n",
            "Successfully built baidu-aip\n",
            "Installing collected packages: baidu-aip\n",
            "Successfully installed baidu-aip-2.2.18.0\n"
          ],
          "name": "stdout"
        }
      ]
    },
    {
      "cell_type": "code",
      "metadata": {
        "id": "qt2RKYEtZAnI",
        "colab_type": "code",
        "colab": {}
      },
      "source": [
        "from aip import AipNlp\n",
        "APP_ID = ''\n",
        "API_KEY = ''\n",
        "SECRET_KEY = ''\n",
        "\n",
        "client = AipNlp(APP_ID, API_KEY, SECRET_KEY)"
      ],
      "execution_count": 0,
      "outputs": []
    },
    {
      "cell_type": "code",
      "metadata": {
        "id": "DZoTb4Oahax2",
        "colab_type": "code",
        "colab": {
          "base_uri": "https://localhost:8080/",
          "height": 125
        },
        "outputId": "3ed74340-5b1b-4464-f76b-35681f665795"
      },
      "source": [
        "text = 'I am interested in this workshop.'\n",
        "client.sentimentClassify(text)"
      ],
      "execution_count": 5,
      "outputs": [
        {
          "output_type": "execute_result",
          "data": {
            "text/plain": [
              "{u'items': [{u'confidence': 0.115521,\n",
              "   u'negative_prob': 0.455776,\n",
              "   u'positive_prob': 0.544224,\n",
              "   u'sentiment': 1}],\n",
              " u'log_id': 5766633508630618157,\n",
              " u'text': u'I am interested in this workshop.'}"
            ]
          },
          "metadata": {
            "tags": []
          },
          "execution_count": 5
        }
      ]
    },
    {
      "cell_type": "markdown",
      "metadata": {
        "id": "eEDM3nhihiMW",
        "colab_type": "text"
      },
      "source": [
        "Baidu API: Maybe this is positive, but I'm not sure."
      ]
    },
    {
      "cell_type": "markdown",
      "metadata": {
        "id": "k7Xjvp2RkgPC",
        "colab_type": "text"
      },
      "source": [
        "AllenNLP is useful: https://demo.allennlp.org/dependency-parsing"
      ]
    },
    {
      "cell_type": "markdown",
      "metadata": {
        "id": "QumSQ_tyjQRa",
        "colab_type": "text"
      },
      "source": [
        "You can use code released by OpenAI to play with GPT-2, and fine-tune it for your purposes. For simplicity I'm showing you an online demo: https://talktotransformer.com/"
      ]
    },
    {
      "cell_type": "markdown",
      "metadata": {
        "id": "eXFzB9nZYZKq",
        "colab_type": "text"
      },
      "source": [
        "# Research\n",
        "\n",
        "If you are into research, you should definitely take Natural Language Understanding next semester. If you can’t enroll in it, you can always audit it online as it is streamed online. Please contact the TAs for more information in the first class. NLU guides students through their first research in NLP, from how to come up with a topic, to literature reading, experiment designing, and finally paper writing. Students are asked to form teams of three or four to write a paper and present it to the whole class. If you are interested in reading some papers in this field, you can go to Arxiv, ACL anthology, and checkout the websites of workshops if you are interested in any specific task.\n",
        "\n",
        "For students without a strong computer science background, I’d generally discourage against approaching a faculty at CS or CDS for a research collaboration, unless you have some really cool idea. If you have a solid foundation, keep an eye on Wasserman job postings as sometimes opportunities to participate in a research will be posted there, or you may directly discuss with a faculty member. Don’t be discouraged if you are rejected, as it happens all the time."
      ]
    },
    {
      "cell_type": "markdown",
      "metadata": {
        "id": "RSdaixQ1Yiq_",
        "colab_type": "text"
      },
      "source": [
        "## Where to publish a paper?\n",
        "\n",
        "When you have a paper either by taking a class that requires a course paper or by collaborating with other students or researchers, you can submit it to conferences or put it on Arxiv. Notice that if you put it on [Arxiv](https://arxiv.org/) with your names, generally you can’t submit it to a conference later as it violates the rules. Submitting is free, and grants are sometimes available to student attendees. There are also summits held by tech companies such as Facebook. Those are mostly non-archival and more of a chance to meet new people and share ideas. These are great opportunities for both who are seeking job opportunities and who are interested in getting to know more researchers and their works."
      ]
    },
    {
      "cell_type": "code",
      "metadata": {
        "id": "RopGxlPjVydl",
        "colab_type": "code",
        "colab": {}
      },
      "source": [
        ""
      ],
      "execution_count": 0,
      "outputs": []
    }
  ]
}